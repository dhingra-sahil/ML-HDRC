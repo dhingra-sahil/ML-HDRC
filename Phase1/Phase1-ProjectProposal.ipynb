{
 "cells": [
  {
   "cell_type": "markdown",
   "id": "02417a5a-8052-4e06-8a62-ca2c67072e19",
   "metadata": {},
   "source": [
    "**<h1 style=\"text-align:center\">Phase 1: Project Proposal</h1>**\n",
    "\n",
    "<h3 style=\"text-align:center\">Home Credit Default Risk</h3>\n",
    "\n",
    "**<h4 style=\"text-align:center\">Team FP_GroupN_10</h4>**\n",
    "\n",
    "*<h5 style=\"text-align:center\">Mark Green</h5>*\n",
    "\n",
    "*<h5 style=\"text-align:center\">Sahil Dhingra</h5>*\n",
    "\n",
    "*<h5 style=\"text-align:center\">Pragat Wagle</h5>*\n",
    "\n",
    "*<h5 style=\"text-align:center\">Kunal Singh</h5>*\n",
    "\n",
    "---\n",
    "\n",
    "## Table of Contents\n",
    "\n",
    "1. [Abstract](#abstract)\n",
    "2. [Introduction](#intro)\n",
    "3. [Data Description](#datadesc)\n",
    "4. [Machine Learning Algorithms](#algos)\n",
    "5. [Machine Learning Pipelines](#pipelines)\n",
    "6. [Conclusion](#conclusion)\n",
    "7. [Phase Leader Plan](#phase)\n",
    "8. [Credit Assignment Plan](#credit)\n",
    "\n",
    "---"
   ]
  },
  {
   "cell_type": "markdown",
   "id": "8438a3d6-8235-473c-b249-1b080ef3fd71",
   "metadata": {},
   "source": [
    "## Abstract <a name='abstract'></a>\n",
    "\n",
    "\n",
    "\n",
    "---"
   ]
  },
  {
   "cell_type": "markdown",
   "id": "5c876b3d-881c-4e12-a44b-2a0d33502056",
   "metadata": {},
   "source": [
    "## Introduction <a name='intro'></a>\n",
    "\n",
    "The Home Credit organization's mission is to provide responsible lending solutions to people with little to no credit history. Home Credit wants to determine their customer's eligibility for their financial products by determining their risk of default - the risk they will miss payments. **FP_GroupN_10** has been tasked to evaluate their data and develop a machine learning model to predict each applicant's risk of default. This model will eventaully be used as a tool to evaluate future loan candidates.\n",
    "\n",
    "This project proposal discusses the data associated with this task, the machine learning algorithms and pipelines to be developed, baseline model, and metrics by which to evaluate various models. In addition, the following are provided: \n",
    "\n",
    "+ An overview of the project timeline and expectations\n",
    "+ the [Phase Leader](#phase) table detailing the leaders for each phase of the project \n",
    "+ the [Credit Assignment](#credit) table detailing the portions of the current phase completed by each team member \n",
    "\n",
    "~*mg*"
   ]
  },
  {
   "cell_type": "markdown",
   "id": "3b13b47f-4115-440f-a946-d6306f8e23e6",
   "metadata": {},
   "source": [
    "## Data Description <a name='datadesc'></a>\n",
    "\n",
    "Home Credit provides three main sources of data upon which to learn the ML model described in the sections below. Notably, the primary key for each sample is the Loan ID `SK_ID_CURR`. This relates the sample in the current application to associated loans from Home Credit's past account records, and to associated loans from other institution's that were reported to the Credit Bureaus. \n",
    "\n",
    "### Loan Application Information\n",
    "\n",
    "This is a denormalized table `application_test|train.csv` with attribute information about the current loan. These attributes describe both the financial instrument itself (the contract type, rate, size of loan, annuity, etc.) and also the demographic information for the applicant (age, gender, income, education, etc.). In addition to these basic demographic data on the applicant, a suite of other very detailed information about the applicant are provided including details on the building/property in which they live, differences in work and home addresses, car ownership, if the applicant's friends recently defaulted on any loans, which documents were turned in, and many more. This table also contains the target variable `TARGET`. This is a binary variable indicating whether or not the client had payment difficulties on the loan. \n",
    "\n",
    "### Credit Bureau Information\n",
    "\n",
    "Some applicants have had loans through other financial institutions which were reported to the Credit Bureaus. Data from these loan applications are available from `bureau.csv` and are related to the current loan application IDs. Monthly loan balance is available for each of these related outside institution loans in `bureau_balance.csv` related to `burearu.csv` by `SK_ID_BUREAU`. \n",
    "\n",
    "### Home Credit Previous Records\n",
    "\n",
    "Some applicants have had loans or other financial products through Home Credit in the past. These related financial product applications are made available under `previous_application.csv`. The `SK_ID_PREV` relates these applications to payment and balance information depending on the type of financial product (credit card balance, installment payments, and loan balance). \n",
    "\n"
   ]
  },
  {
   "cell_type": "markdown",
   "id": "c0c36d64-3286-45c4-92e4-345c1414a9c9",
   "metadata": {},
   "source": [
    "## Machine Learning Algorithms <a name='algos'></a>\n",
    "\n"
   ]
  },
  {
   "cell_type": "markdown",
   "id": "f33b9c01",
   "metadata": {},
   "source": [
    "Some of the considerations are algorithms that involve binary classification as the clients will be classified into one of two groups. The groups consist of clients that can they repay their loans or not and thus a binary solution can be done. SVM, KNN, and Logistic Regression are in being considered with Logistic Regression as the baseline model. \n",
    "\n",
    "The  sklearn.linear_model.LogisticRegression implementation will be used for the baseline model with parameters penalty that can be any one the these l1’, ‘l2’, ‘elasticnet’, a mutli class of 'ovr' to fit each label using a binary problem, and C which is the inverse of regularization strength. Loss of LR will be calculated using with cross entropy loss. \n",
    "The log loss formula for the binary case is as follows : $-\\frac{1}{m}\\sum^m_{i=1}\\left(y_i\\cdot\\:\\log\\:\\left(p_i\\right)\\:+\\:\\left(1-y_i\\right)\\cdot\\log\\left(1-p_i\\right)\\right) $\n",
    "\n",
    "Another algorithm in consideration is sklearn.svm.SVC with hinge loss with a soft margin and hard margin which is determined by the paramter C, the regularization paramter. The value of 1 will indicate a soft margin while a value of 100 will indicate a hard margin. The kernal is another consideration has the options ‘linear’, ‘poly’, ‘rbf’, ‘sigmoid’, ‘precomputed’.\n",
    "\n",
    "sklearn.neighbors.KnearestClassifier is the last alogrithm to be considered at this point with the most important parameters being number of nearest neighbors and weights. \n",
    "\n",
    "Some metrics that will be used are \n",
    "\n",
    "\n",
    "$\n",
    "Accuracy = \\frac{TP+TN}{TP+TN+FP+FN}\n",
    "$\n",
    "\n",
    "$\n",
    "Precision = \\frac{TP}{TP+FP}\n",
    "$\n",
    "\n",
    "$\n",
    "Recall = \\frac{TP}{TP+FN}\n",
    "$\n",
    "\n",
    "$\n",
    "F1 = \\frac{2*Precision*Recall}{Precision+Recall} = \\frac{2*TP}{2*TP+FP+FN}\n",
    "$\n",
    "\n",
    "AUC is calculated as the Area Under the $Sensitivity$(TPR)-$(1-Specificity)$(FPR) Curve.\n",
    "\n",
    "Hinge Loss for SVM\n",
    "\n",
    "$\n",
    "max(0, 1 - y \\cdot \\hat{y})\n",
    "$\n"
   ]
  },
  {
   "cell_type": "markdown",
   "id": "f53c5029-8110-4d85-8db9-6645c679ea3a",
   "metadata": {},
   "source": [
    "## Machine Learning Pipelines <a name='pipelines'></a>\n",
    "\n"
   ]
  },
  {
   "cell_type": "markdown",
   "id": "b15953d8-b20e-427a-8c64-8b814d2900e7",
   "metadata": {},
   "source": [
    "## Conclusion <a name='conclusion'></a>\n",
    "\n",
    "\n",
    "\n",
    "---"
   ]
  },
  {
   "cell_type": "markdown",
   "id": "59979bdd-210c-4c6f-a508-e1282067a2cf",
   "metadata": {},
   "source": [
    "## Phase Leader Plan <a name='phase'></a>\n",
    "\n",
    "| Phase | Leader |\n",
    "|-------|:------:|\n",
    "| 1     | *Mark???* |\n",
    "| 2     | ???    |\n",
    "| 3     | ???    |\n",
    "| 4     | ???    |\n",
    "\n",
    "## Credit Assignment Plan <a name='credit'></a>\n",
    "\n",
    "| Task Index | Mark | Sahil | Pragat | Kunal |\n",
    "|------------|:----:|:-----:|:------:|:-----:|\n",
    "| 1          | Setup git repository |       |        |       |\n",
    "| 2          | Made available Kaggle data to Sharepoint |       |        |       |\n",
    "| 3          | Setup .md report template |       |        |       |\n",
    "| 4          | Data Description Section |       |        |       |\n",
    "| 5          |      |       |        |       |\n",
    "\n"
   ]
  },
  {
   "cell_type": "code",
   "execution_count": null,
   "id": "6d48bbec-12b1-4dd4-9df4-0920578e3986",
   "metadata": {},
   "outputs": [],
   "source": []
  }
 ],
 "metadata": {
  "kernelspec": {
   "display_name": "Python 3 (ipykernel)",
   "language": "python",
   "name": "python3"
  },
  "language_info": {
   "codemirror_mode": {
    "name": "ipython",
    "version": 3
   },
   "file_extension": ".py",
   "mimetype": "text/x-python",
   "name": "python",
   "nbconvert_exporter": "python",
   "pygments_lexer": "ipython3",
   "version": "3.9.7"
  }
 },
 "nbformat": 4,
 "nbformat_minor": 5
}
