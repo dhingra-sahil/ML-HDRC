{
 "cells": [
  {
   "cell_type": "markdown",
   "id": "02417a5a-8052-4e06-8a62-ca2c67072e19",
   "metadata": {},
   "source": [
    "**<h1 style=\"text-align:center\">Phase 1: Project Proposal</h1>**\n",
    "\n",
    "<h3 style=\"text-align:center\">Home Credit Default Risk</h3>\n",
    "\n",
    "**<h4 style=\"text-align:center\">Team FP_GroupN_10</h4>**\n",
    "\n",
    "*<h5 style=\"text-align:center\">Mark Green</h5>*\n",
    "\n",
    "*<h5 style=\"text-align:center\">Sahil Dhingra</h5>*\n",
    "\n",
    "*<h5 style=\"text-align:center\">Pragat Wagle</h5>*\n",
    "\n",
    "*<h5 style=\"text-align:center\">Kunal Singh</h5>*\n",
    "\n",
    "---\n",
    "\n",
    "## Table of Contents\n",
    "\n",
    "1. [Abstract](#abstract)\n",
    "2. [Introduction](#intro)\n",
    "3. [Data Description](#datadesc)\n",
    "4. [Machine Learning Algorithms](#algos)\n",
    "5. [Machine Learning Pipelines](#pipelines)\n",
    "6. [Conclusion](#conclusion)\n",
    "7. [Phase Leader Plan](#phase)\n",
    "8. [Credit Assignment Plan](#credit)\n",
    "\n",
    "---"
   ]
  },
  {
   "cell_type": "markdown",
   "id": "8438a3d6-8235-473c-b249-1b080ef3fd71",
   "metadata": {},
   "source": [
    "## Abstract <a name='abstract'></a>\n",
    "\n",
    "\n",
    "\n",
    "---"
   ]
  },
  {
   "cell_type": "markdown",
   "id": "5c876b3d-881c-4e12-a44b-2a0d33502056",
   "metadata": {},
   "source": [
    "## Introduction <a name='intro'></a>\n",
    "\n",
    "The Home Credit organization's mission is to provide responsible lending solutions to people with little to no credit history. Home Credit wants to determine their customer's eligibility for loans by determining their risk of default - the risk they will not be able to pay back the loan. **FP_GroupN_10** has been tasked to evaluate their existing customers' data and develop a machine learning model to predict each customer's default risk as a tool for the financial officers to evaluate loan candidates. ~*mg*\n",
    "\n",
    "This report discusses the data associated with this task, the machine learning algorithms and pipelines to be developed, baseline model and metrics by which to evaluate various models, and a overview of the project timeline and expectations. In addition, the [Phase Leader](#phase) table details the leader for each phase of the project and the [Credit Assignment](#credit) table details the portions of the current phase completed by each team member. ~*mg*"
   ]
  },
  {
   "cell_type": "markdown",
   "id": "3b13b47f-4115-440f-a946-d6306f8e23e6",
   "metadata": {},
   "source": [
    "## Data Description <a name='datadesc'></a>\n",
    "\n"
   ]
  },
  {
   "cell_type": "markdown",
   "id": "c0c36d64-3286-45c4-92e4-345c1414a9c9",
   "metadata": {},
   "source": [
    "## Machine Learning Algorithms <a name='algos'></a>\n",
    "\n"
   ]
  },
  {
   "cell_type": "markdown",
   "id": "f53c5029-8110-4d85-8db9-6645c679ea3a",
   "metadata": {},
   "source": [
    "## Machine Learning Pipelines <a name='pipelines'></a>\n",
    "\n"
   ]
  },
  {
   "cell_type": "markdown",
   "id": "b15953d8-b20e-427a-8c64-8b814d2900e7",
   "metadata": {},
   "source": [
    "## Conclusion <a name='conclusion'></a>\n",
    "\n",
    "\n",
    "\n",
    "---"
   ]
  },
  {
   "cell_type": "markdown",
   "id": "59979bdd-210c-4c6f-a508-e1282067a2cf",
   "metadata": {},
   "source": [
    "## Phase Leader Plan <a name='phase'></a>\n",
    "\n",
    "| Phase | Leader |\n",
    "|-------|:------:|\n",
    "| 1     | *Mark???* |\n",
    "| 2     | ???    |\n",
    "| 3     | ???    |\n",
    "| 4     | ???    |\n",
    "\n",
    "## Credit Assignment Plan <a name='credit'></a>\n",
    "\n",
    "| Task Index | Mark | Sahil | Pragat | Kunal |\n",
    "|------------|:----:|:-----:|:------:|:-----:|\n",
    "| 1          | Setup git repository |       |        |       |\n",
    "| 2          | Made available Kaggle data to Sharepoint |       |        |       |\n",
    "| 3          | Setup .md report template |       |        |       |\n",
    "| 4          |      |       |        |       |\n",
    "| 5          |      |       |        |       |\n",
    "\n"
   ]
  },
  {
   "cell_type": "code",
   "execution_count": null,
   "id": "6d48bbec-12b1-4dd4-9df4-0920578e3986",
   "metadata": {},
   "outputs": [],
   "source": []
  }
 ],
 "metadata": {
  "kernelspec": {
   "display_name": "Python 3",
   "language": "python",
   "name": "python3"
  },
  "language_info": {
   "codemirror_mode": {
    "name": "ipython",
    "version": 3
   },
   "file_extension": ".py",
   "mimetype": "text/x-python",
   "name": "python",
   "nbconvert_exporter": "python",
   "pygments_lexer": "ipython3",
   "version": "3.9.7"
  }
 },
 "nbformat": 4,
 "nbformat_minor": 5
}
